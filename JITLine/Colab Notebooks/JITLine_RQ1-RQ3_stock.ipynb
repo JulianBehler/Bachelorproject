{
 "cells": [
  {
   "cell_type": "code",
   "source": [
    "from google.colab import drive\n",
    "drive.mount('/content/gdrive')"
   ],
   "metadata": {
    "colab": {
     "base_uri": "https://localhost:8080/"
    },
    "id": "Ga-E6kaSAP5m",
    "executionInfo": {
     "status": "ok",
     "timestamp": 1694015993702,
     "user_tz": -120,
     "elapsed": 16199,
     "user": {
      "displayName": "Albi",
      "userId": "03811527498210848019"
     }
    },
    "outputId": "107623a4-4c1a-42a5-deaa-cf145cef261f"
   },
   "execution_count": 2,
   "outputs": [
    {
     "output_type": "stream",
     "name": "stdout",
     "text": [
      "Mounted at /content/gdrive\n"
     ]
    }
   ]
  },
  {
   "cell_type": "code",
   "source": [
    "import sys\n",
    "sys.path.append('/content/gdrive/My Drive')"
   ],
   "metadata": {
    "id": "2BPGP7JwAau4",
    "executionInfo": {
     "status": "ok",
     "timestamp": 1694015993703,
     "user_tz": -120,
     "elapsed": 7,
     "user": {
      "displayName": "Albi",
      "userId": "03811527498210848019"
     }
    }
   },
   "execution_count": 3,
   "outputs": []
  },
  {
   "cell_type": "code",
   "execution_count": 4,
   "metadata": {
    "id": "p10s5xVp1hyH",
    "executionInfo": {
     "status": "ok",
     "timestamp": 1694015995898,
     "user_tz": -120,
     "elapsed": 2199,
     "user": {
      "displayName": "Albi",
      "userId": "03811527498210848019"
     }
    }
   },
   "outputs": [],
   "source": [
    "# import pickle\n",
    "from my_util import *\n",
    "from sklearn.feature_extraction.text import CountVectorizer\n",
    "from sklearn.ensemble import RandomForestClassifier\n",
    "from sklearn.metrics import confusion_matrix, roc_auc_score, matthews_corrcoef, precision_recall_fscore_support, classification_report, auc\n",
    "\n",
    "from imblearn.over_sampling import SMOTE\n",
    "\n",
    "import numpy as np\n",
    "from scipy.optimize import differential_evolution\n",
    "import pandas as pd\n",
    "import time, pickle, math, warnings, os\n",
    "warnings.filterwarnings('ignore')\n",
    "\n",
    "\n",
    "\n",
    "projects = ['openstack','qt']\n",
    "sampling_methods = 'DE_SMOTE_min_df_3'\n",
    "\n",
    "remove_python_common_tokens = True\n",
    "\n",
    "create_path_if_not_exist('./data/')\n",
    "create_path_if_not_exist('./final_model/')"
   ]
  },
  {
   "cell_type": "code",
   "execution_count": 5,
   "metadata": {
    "id": "zKM5i-k61hyK",
    "executionInfo": {
     "status": "ok",
     "timestamp": 1694015995899,
     "user_tz": -120,
     "elapsed": 13,
     "user": {
      "displayName": "Albi",
      "userId": "03811527498210848019"
     }
    }
   },
   "outputs": [],
   "source": [
    "def get_combined_df(code_commit, commit_id, label, metrics_df, count_vect):\n",
    "    code_df = pd.DataFrame()\n",
    "    code_df['commit_id'] = commit_id\n",
    "    code_df['code'] = code_commit\n",
    "    code_df['label'] = label\n",
    "\n",
    "    code_df = code_df.sort_values(by='commit_id')\n",
    "\n",
    "    metrics_df = metrics_df.sort_values(by='commit_id')\n",
    "    metrics_df = metrics_df.drop('commit_id',axis=1)\n",
    "\n",
    "    code_change_arr = count_vect.transform(code_df['code']).astype(np.int16).toarray()\n",
    "    metrics_df_arr = metrics_df.to_numpy(dtype=np.float32)\n",
    "\n",
    "    final_features = np.concatenate((code_change_arr,metrics_df_arr),axis=1)\n",
    "\n",
    "    return final_features, list(code_df['commit_id']), list(code_df['label'])\n"
   ]
  },
  {
   "cell_type": "code",
   "execution_count": 6,
   "metadata": {
    "id": "Kms6vTJc1hyL",
    "executionInfo": {
     "status": "ok",
     "timestamp": 1694015995899,
     "user_tz": -120,
     "elapsed": 9,
     "user": {
      "displayName": "Albi",
      "userId": "03811527498210848019"
     }
    }
   },
   "outputs": [],
   "source": [
    "def objective_func(k, train_feature, train_label, valid_feature, valid_label):\n",
    "    smote = SMOTE(random_state=42, k_neighbors= int(np.round(k)), n_jobs=32)\n",
    "    train_feature_res, train_label_res = smote.fit_resample(train_feature, train_label)\n",
    "\n",
    "    clf = RandomForestClassifier(n_estimators=300, random_state=42, n_jobs=-1)\n",
    "    clf.fit(train_feature_res, train_label_res)\n",
    "\n",
    "    prob = clf.predict_proba(valid_feature)[:,1]\n",
    "    auc = roc_auc_score(valid_label, prob)\n",
    "\n",
    "    return -auc"
   ]
  },
  {
   "cell_type": "markdown",
   "metadata": {
    "id": "E9zO52Zf1hyM"
   },
   "source": [
    "## The code below this cell is used to\n",
    "\n",
    "1. obtain the best k_neighbor of SMOTE (the value is rounded to int)\n",
    "2. resample train data using SMOTE with the best k_neighbor value\n",
    "3. train RF model and obtain prediction result from the model\n"
   ]
  },
  {
   "cell_type": "code",
   "execution_count": 7,
   "metadata": {
    "id": "znXL3ZgG1hyN",
    "executionInfo": {
     "status": "ok",
     "timestamp": 1694016003382,
     "user_tz": -120,
     "elapsed": 237,
     "user": {
      "displayName": "Albi",
      "userId": "03811527498210848019"
     }
    }
   },
   "outputs": [],
   "source": [
    "def run_experiment(cur_proj):\n",
    "    data_path = './data/'\n",
    "    model_path = './final_model/'\n",
    "\n",
    "    train_code, train_commit, train_label = prepare_data(cur_proj, mode='train',\n",
    "                                                                  remove_python_common_tokens=remove_python_common_tokens)\n",
    "    test_code, test_commit, test_label = prepare_data(cur_proj, mode='test',\n",
    "                                                              remove_python_common_tokens=remove_python_common_tokens)\n",
    "\n",
    "    commit_metrics = load_change_metrics_df(cur_proj)\n",
    "    train_commit_metrics = commit_metrics[commit_metrics['commit_id'].isin(train_commit)]\n",
    "    test_commit_metrics = commit_metrics[commit_metrics['commit_id'].isin(test_commit)]\n",
    "\n",
    "    count_vect = CountVectorizer(min_df=3, ngram_range=(1,1))\n",
    "    count_vect.fit(train_code)\n",
    "\n",
    "    train_feature, train_commit_id, new_train_label = get_combined_df(train_code, train_commit, train_label, train_commit_metrics,count_vect)\n",
    "    test_feature, test_commit_id, new_test_label = get_combined_df(test_code, test_commit, test_label, test_commit_metrics,count_vect)\n",
    "\n",
    "    percent_80 = int(len(new_train_label)*0.8)\n",
    "\n",
    "    final_train_feature = train_feature[:percent_80]\n",
    "    final_train_commit_id = train_commit_id[:percent_80]\n",
    "    final_new_train_label = new_train_label[:percent_80]\n",
    "\n",
    "    valid_feature = train_feature[percent_80:]\n",
    "    valid_commit_id = train_commit_id[percent_80:]\n",
    "    valid_label = new_train_label[percent_80:]\n",
    "\n",
    "    print('load data of',cur_proj, 'finish')\n",
    "\n",
    "    #bounds = [(1,20)]\n",
    "    #result = differential_evolution(objective_func, bounds, args=(final_train_feature, final_new_train_label,\n",
    "    #                                                              valid_feature, valid_label),\n",
    "    #                               popsize=10, mutation=0.7, recombination=0.3,seed=0)\n",
    "\n",
    "    result = 13.70396985 # or 9.40494412 for openstack\n",
    "\n",
    "    smote = SMOTE(random_state=42, n_jobs=32, k_neighbors=int(np.round(result)))\n",
    "    train_feature_res, train_label_res = smote.fit_resample(final_train_feature, final_new_train_label)\n",
    "\n",
    "    clf = RandomForestClassifier(n_estimators=300, random_state=42, n_jobs=-1)\n",
    "    clf_name = 'RF'\n",
    "    trained_clf, pred_df = train_eval_model(clf, train_feature_res, train_label_res,\n",
    "                                       test_feature, new_test_label)\n",
    "    pred_df['test_commit'] = test_commit_id\n",
    "    pred_df.to_csv(data_path+cur_proj+'_'+clf_name+'_'+sampling_methods+'_prediction_result.csv')\n",
    "\n",
    "    model_path = model_path+cur_proj+'_'+clf_name+'_'+sampling_methods+'.pkl'\n",
    "    pickle.dump(trained_clf, open(model_path, 'wb'))\n",
    "\n",
    "    print('finished',cur_proj)\n",
    "    print('-'*100)\n",
    "\n",
    "    k_of_smote = result\n",
    "    best_AUC_of_obj_func = result\n",
    "\n",
    "    return k_of_smote, best_AUC_of_obj_func"
   ]
  },
  {
   "cell_type": "code",
   "execution_count": null,
   "metadata": {
    "scrolled": true,
    "colab": {
     "base_uri": "https://localhost:8080/"
    },
    "id": "Tl9Xs5a91hyO",
    "outputId": "3e010545-bc26-4ab9-efaa-c510da4b1bab",
    "executionInfo": {
     "status": "ok",
     "timestamp": 1693829747467,
     "user_tz": -120,
     "elapsed": 97220,
     "user": {
      "displayName": "Albi",
      "userId": "03811527498210848019"
     }
    }
   },
   "outputs": [
    {
     "output_type": "stream",
     "name": "stdout",
     "text": [
      "load data of openstack finish\n",
      "finished openstack\n",
      "----------------------------------------------------------------------------------------------------\n",
      "CPU times: user 8min 4s, sys: 4.32 s, total: 8min 8s\n",
      "Wall time: 1min 36s\n"
     ]
    }
   ],
   "source": [
    "%%time\n",
    "openstack_k_of_smote, openstack_best_AUC_of_obj_func = run_experiment('openstack')"
   ]
  },
  {
   "cell_type": "code",
   "execution_count": null,
   "metadata": {
    "id": "yb07hOcG1hyO",
    "colab": {
     "base_uri": "https://localhost:8080/"
    },
    "executionInfo": {
     "status": "ok",
     "timestamp": 1693231523613,
     "user_tz": -120,
     "elapsed": 426,
     "user": {
      "displayName": "Albi",
      "userId": "03811527498210848019"
     }
    },
    "outputId": "9d39050b-bfe6-424e-9186-e04bf95ba0f7"
   },
   "outputs": [
    {
     "output_type": "stream",
     "name": "stdout",
     "text": [
      "The best k_neighbors of Openstack: [9.40494412]\n"
     ]
    }
   ],
   "source": [
    "print('The best k_neighbors of Openstack:', openstack_k_of_smote)"
   ]
  },
  {
   "cell_type": "code",
   "execution_count": 18,
   "metadata": {
    "id": "8L3RMQvY1hyP",
    "outputId": "74f9c8d9-d1b9-4645-bb73-f125dd59489e",
    "colab": {
     "base_uri": "https://localhost:8080/"
    },
    "executionInfo": {
     "status": "ok",
     "timestamp": 1694029615553,
     "user_tz": -120,
     "elapsed": 695426,
     "user": {
      "displayName": "Albi",
      "userId": "03811527498210848019"
     }
    }
   },
   "outputs": [
    {
     "output_type": "stream",
     "name": "stdout",
     "text": [
      "load data of qt finish\n",
      "finished qt\n",
      "----------------------------------------------------------------------------------------------------\n",
      "CPU times: user 59min 27s, sys: 37.1 s, total: 1h 4s\n",
      "Wall time: 11min 35s\n"
     ]
    }
   ],
   "source": [
    "%%time\n",
    "qt_k_of_smote, qt_best_AUC_of_obj_func = run_experiment('qt')"
   ]
  },
  {
   "cell_type": "code",
   "execution_count": null,
   "metadata": {
    "id": "i7m6EH1m1hyP",
    "outputId": "8c1ca2b0-b6d5-405e-b4d9-0d390fde630c"
   },
   "outputs": [
    {
     "name": "stdout",
     "output_type": "stream",
     "text": [
      "The best k_neighbors of Qt: 14\n"
     ]
    }
   ],
   "source": [
    "print('The best k_neighbors of Qt:', qt_k_of_smote)"
   ]
  },
  {
   "cell_type": "markdown",
   "metadata": {
    "id": "sdpykH9u1hyP"
   },
   "source": [
    "## RQ1-RQ2 result"
   ]
  },
  {
   "cell_type": "code",
   "execution_count": 9,
   "metadata": {
    "id": "KKEVB6fP1hyP",
    "executionInfo": {
     "status": "ok",
     "timestamp": 1694016594700,
     "user_tz": -120,
     "elapsed": 241,
     "user": {
      "displayName": "Albi",
      "userId": "03811527498210848019"
     }
    }
   },
   "outputs": [],
   "source": [
    "RF_data_dir = './data/'\n",
    "\n",
    "def get_recall_at_k_percent_effort(percent_effort, result_df_arg, real_buggy_commits):\n",
    "    cum_LOC_k_percent = (percent_effort/100)*result_df_arg.iloc[-1]['cum_LOC']\n",
    "    buggy_line_k_percent =  result_df_arg[result_df_arg['cum_LOC'] <= cum_LOC_k_percent]\n",
    "    buggy_commit = buggy_line_k_percent[buggy_line_k_percent['label']==1]\n",
    "    recall_k_percent_effort = len(buggy_commit)/float(len(real_buggy_commits))\n",
    "\n",
    "    return recall_k_percent_effort\n",
    "\n",
    "def eval_metrics(result_df):\n",
    "\n",
    "    pred = result_df['defective_commit_pred']\n",
    "    y_test = result_df['label']\n",
    "\n",
    "    prec, rec, f1, _ = precision_recall_fscore_support(y_test,pred,average='binary') # at threshold = 0.5\n",
    "    tn, fp, fn, tp   = confusion_matrix(y_test, pred, labels=[0, 1]).ravel()\n",
    "#     rec = tp/(tp+fn)\n",
    "\n",
    "    accuracy = (tp + tn) / (tp + tn + fp + fn)\n",
    "    print('Accuracy:', accuracy)\n",
    "\n",
    "    FAR = fp/(fp+tn) # false alarm rate\n",
    "    dist_heaven = math.sqrt((pow(1-rec,2)+pow(0-FAR,2))/2.0) # distance to heaven\n",
    "\n",
    "    AUC = roc_auc_score(y_test, result_df['defective_commit_prob'])\n",
    "    print('AUC: ', AUC)\n",
    "    print('FAR: ', FAR)\n",
    "    print('dist_heaven: ', dist_heaven)\n",
    "    print('prec:', prec)\n",
    "    print('rec', rec)\n",
    "    print('f1', f1)\n",
    "\n",
    "\n",
    "\n",
    "    conf_matrix = confusion_matrix(y_test, pred)\n",
    "    per_clas_acc = conf_matrix.diagonal()/conf_matrix.sum(axis=1)\n",
    "    print(' per-class accuracy score: ', per_clas_acc)\n",
    "\n",
    "\n",
    "    result_df['defect_density'] = result_df['defective_commit_prob']/result_df['LOC'] # predicted defect density\n",
    "    result_df['actual_defect_density'] = result_df['label']/result_df['LOC'] #defect density\n",
    "\n",
    "    result_df = result_df.sort_values(by='defect_density',ascending=False)\n",
    "    actual_result_df = result_df.sort_values(by='actual_defect_density',ascending=False)\n",
    "    actual_worst_result_df = result_df.sort_values(by='actual_defect_density',ascending=True)\n",
    "\n",
    "    result_df['cum_LOC'] = result_df['LOC'].cumsum()\n",
    "    actual_result_df['cum_LOC'] = actual_result_df['LOC'].cumsum()\n",
    "    actual_worst_result_df['cum_LOC'] = actual_worst_result_df['LOC'].cumsum()\n",
    "\n",
    "    real_buggy_commits = result_df[result_df['label'] == 1]\n",
    "\n",
    "    label_list = list(result_df['label'])\n",
    "\n",
    "    all_rows = len(label_list)\n",
    "\n",
    "    # find Recall@20%Effort\n",
    "    cum_LOC_20_percent = 0.2*result_df.iloc[-1]['cum_LOC']\n",
    "    buggy_line_20_percent = result_df[result_df['cum_LOC'] <= cum_LOC_20_percent]\n",
    "    buggy_commit = buggy_line_20_percent[buggy_line_20_percent['label']==1]\n",
    "    recall_20_percent_effort = len(buggy_commit)/float(len(real_buggy_commits))\n",
    "    print('PCI@20: ', recall_20_percent_effort)\n",
    "\n",
    "    # find Effort@20%Recall\n",
    "    buggy_20_percent = real_buggy_commits.head(math.ceil(0.2 * len(real_buggy_commits)))\n",
    "    buggy_20_percent_LOC = buggy_20_percent.iloc[-1]['cum_LOC']\n",
    "    effort_at_20_percent_LOC_recall = int(buggy_20_percent_LOC) / float(result_df.iloc[-1]['cum_LOC'])\n",
    "    print('effort@20: ', effort_at_20_percent_LOC_recall)\n",
    "\n",
    "    # find P_opt\n",
    "    percent_effort_list = []\n",
    "    predicted_recall_at_percent_effort_list = []\n",
    "    actual_recall_at_percent_effort_list = []\n",
    "    actual_worst_recall_at_percent_effort_list = []\n",
    "\n",
    "    for percent_effort in np.arange(10,101,10):\n",
    "        predicted_recall_k_percent_effort = get_recall_at_k_percent_effort(percent_effort, result_df, real_buggy_commits)\n",
    "        actual_recall_k_percent_effort = get_recall_at_k_percent_effort(percent_effort, actual_result_df, real_buggy_commits)\n",
    "        actual_worst_recall_k_percent_effort = get_recall_at_k_percent_effort(percent_effort, actual_worst_result_df, real_buggy_commits)\n",
    "\n",
    "        percent_effort_list.append(percent_effort/100)\n",
    "\n",
    "        predicted_recall_at_percent_effort_list.append(predicted_recall_k_percent_effort)\n",
    "        actual_recall_at_percent_effort_list.append(actual_recall_k_percent_effort)\n",
    "        actual_worst_recall_at_percent_effort_list.append(actual_worst_recall_k_percent_effort)\n",
    "\n",
    "    p_opt = 1 - ((auc(percent_effort_list, actual_recall_at_percent_effort_list) -\n",
    "                 auc(percent_effort_list, predicted_recall_at_percent_effort_list)) /\n",
    "                (auc(percent_effort_list, actual_recall_at_percent_effort_list) -\n",
    "                auc(percent_effort_list, actual_worst_recall_at_percent_effort_list)))\n",
    "\n",
    "    print('p_opt: ', p_opt)\n",
    "\n",
    "    return prec, rec, f1, AUC, FAR, dist_heaven, recall_20_percent_effort, effort_at_20_percent_LOC_recall, p_opt, per_clas_acc\n",
    "\n",
    "def eval_result(proj_name,sampling_method = 'DE_SMOTE_min_df_3'):\n",
    "\n",
    "    RF_result = pd.read_csv(RF_data_dir+proj_name+'_RF_'+sampling_method+'_prediction_result.csv')\n",
    "\n",
    "    RF_result.columns = ['Unnamed', 'defective_commit_prob','defective_commit_pred','label','test_commit'] # for new result\n",
    "\n",
    "    test_code, test_commit, test_label = prepare_data(proj_name, mode='test',\n",
    "                                                              remove_python_common_tokens=remove_python_common_tokens)\n",
    "\n",
    "    # get LOC of each commit\n",
    "    RF_LOC = [len(code.splitlines()) for code in test_code]\n",
    "    RF_df = pd.DataFrame()\n",
    "    RF_df['commit_id'] = test_commit\n",
    "    RF_df['LOC'] = RF_LOC\n",
    "\n",
    "    RF_result = pd.merge(RF_df, RF_result,how='inner',left_on = 'commit_id', right_on='test_commit')\n",
    "    prec, rec, f1, auc, FAR, dist_heaven, recall_20_percent_effort, effort_at_20_percent_LOC_recall,p_opt, per_clas_acc = eval_metrics(RF_result)\n",
    "\n",
    "\n",
    "    print('Precision: {:.2f}, Recall: {:.2f}, F1: {:.2f}, AUC: {:.2f}, FAR: {:.2f}, d2h: {:.2f}, PCI@20%LOC: {:.2f}, Effort@20%Recall: {:.2f}, POpt: {:.2f}'.format(prec, rec, f1, auc, FAR, dist_heaven, recall_20_percent_effort, effort_at_20_percent_LOC_recall,p_opt))\n",
    "    #print('Per-class accuracy score:', per_clas_acc[1] )"
   ]
  },
  {
   "cell_type": "code",
   "execution_count": null,
   "metadata": {
    "id": "bpoxJirY1hyQ",
    "colab": {
     "base_uri": "https://localhost:8080/"
    },
    "executionInfo": {
     "status": "ok",
     "timestamp": 1693828530319,
     "user_tz": -120,
     "elapsed": 2776,
     "user": {
      "displayName": "Albi",
      "userId": "03811527498210848019"
     }
    },
    "outputId": "bfdd5384-fb4e-4075-93d0-3a6eed26ad79"
   },
   "outputs": [
    {
     "output_type": "stream",
     "name": "stdout",
     "text": [
      "Accuracy: 0.8670172802404207\n",
      "AUC:  0.8271729767207329\n",
      "FAR:  0.0488013698630137\n",
      "dist_heaven:  0.5217118907197513\n",
      "prec: 0.43\n",
      "rec 0.26380368098159507\n",
      "f1 0.32699619771863114\n",
      " per-class accuracy score:  [0.95119863 0.26380368]\n",
      "PCI@20:  0.558282208588957\n",
      "effort@20:  0.03741333150271161\n",
      "p_opt:  0.8204933586337761\n",
      "Precision: 0.43, Recall: 0.26, F1: 0.33, AUC: 0.83, FAR: 0.05, d2h: 0.52, PCI@20%LOC: 0.56, Effort@20%Recall: 0.04, POpt: 0.82\n"
     ]
    }
   ],
   "source": [
    "eval_result('openstack')"
   ]
  },
  {
   "cell_type": "code",
   "execution_count": 13,
   "metadata": {
    "id": "0mdgGYpW1hyQ",
    "outputId": "81a5ef0d-f720-42d6-93ad-40420ed7b6de",
    "colab": {
     "base_uri": "https://localhost:8080/"
    },
    "executionInfo": {
     "status": "ok",
     "timestamp": 1694024905815,
     "user_tz": -120,
     "elapsed": 9334,
     "user": {
      "displayName": "Albi",
      "userId": "03811527498210848019"
     }
    }
   },
   "outputs": [
    {
     "output_type": "stream",
     "name": "stdout",
     "text": [
      "Accuracy: 0.9249319330999611\n",
      "AUC:  0.8155657614117949\n",
      "FAR:  0.017169179229480736\n",
      "dist_heaven:  0.5874491281105685\n",
      "prec: 0.4305555555555556\n",
      "rec 0.16939890710382513\n",
      "f1 0.24313725490196078\n",
      " per-class accuracy score:  [0.98283082 0.16939891]\n",
      "PCI@20:  0.6994535519125683\n",
      "effort@20:  0.022842051390994506\n",
      "p_opt:  0.8929614012325655\n",
      "Precision: 0.43, Recall: 0.17, F1: 0.24, AUC: 0.82, FAR: 0.02, d2h: 0.59, PCI@20%LOC: 0.70, Effort@20%Recall: 0.02, POpt: 0.89\n"
     ]
    }
   ],
   "source": [
    "eval_result('qt')"
   ]
  },
  {
   "cell_type": "markdown",
   "metadata": {
    "id": "a3vP2tXt1hyR"
   },
   "source": [
    "## RQ3 result\n",
    "\n",
    "note: the_best_k_neighbors is obtained from model training phase"
   ]
  },
  {
   "cell_type": "code",
   "execution_count": null,
   "metadata": {
    "colab": {
     "base_uri": "https://localhost:8080/"
    },
    "id": "TqNsbW3z1hyR",
    "executionInfo": {
     "status": "ok",
     "timestamp": 1693230498373,
     "user_tz": -120,
     "elapsed": 17,
     "user": {
      "displayName": "Albi",
      "userId": "03811527498210848019"
     }
    },
    "outputId": "3bb4ffc6-df25-4551-c5be-698a77df2331"
   },
   "outputs": [
    {
     "output_type": "stream",
     "name": "stdout",
     "text": [
      "CPU times: user 6 µs, sys: 0 ns, total: 6 µs\n",
      "Wall time: 8.82 µs\n"
     ]
    }
   ],
   "source": [
    "%%time\n",
    "def check_train_time(cur_proj, the_best_k_neighbors):\n",
    "    data_path = './data/'\n",
    "    model_path = './final_model/'\n",
    "\n",
    "    train_code, train_commit, train_label = prepare_data(cur_proj, mode='train',\n",
    "                                                                  remove_python_common_tokens=remove_python_common_tokens)\n",
    "\n",
    "    commit_metrics = load_change_metrics_df(cur_proj)\n",
    "    train_commit_metrics = commit_metrics[commit_metrics['commit_id'].isin(train_commit)]\n",
    "\n",
    "    count_vect = CountVectorizer(min_df=3, ngram_range=(1,1))\n",
    "    count_vect.fit(train_code)\n",
    "\n",
    "    print('fit countvectorizer finished')\n",
    "\n",
    "    train_feature, train_commit_id, new_train_label = get_combined_df(train_code, train_commit, train_label, train_commit_metrics,count_vect)\n",
    "\n",
    "    percent_80 = int(len(new_train_label)*0.8)\n",
    "\n",
    "    final_train_feature = train_feature[:percent_80]\n",
    "    final_train_commit_id = train_commit_id[:percent_80]\n",
    "    final_new_train_label = new_train_label[:percent_80]\n",
    "\n",
    "    smote = SMOTE(random_state=42, n_jobs=1, k_neighbors=the_best_k_neighbors)\n",
    "\n",
    "    train_feature_res, train_label_res = smote.fit_resample(final_train_feature, final_new_train_label)\n",
    "\n",
    "    clf = RandomForestClassifier(n_estimators=300, random_state=42, n_jobs=-1)\n",
    "    clf_name = 'RF'\n",
    "\n",
    "    start = time.time()\n",
    "\n",
    "    clf.fit(train_feature_res, train_label_res)\n",
    "\n",
    "    end = time.time()\n",
    "\n",
    "    train_time = end-start\n",
    "    print('train time of {} is {:.3f} secs'.format(cur_proj,train_time))"
   ]
  },
  {
   "cell_type": "code",
   "execution_count": null,
   "metadata": {
    "colab": {
     "base_uri": "https://localhost:8080/"
    },
    "id": "derKXBVh1hyR",
    "executionInfo": {
     "status": "ok",
     "timestamp": 1693230594728,
     "user_tz": -120,
     "elapsed": 96365,
     "user": {
      "displayName": "Albi",
      "userId": "03811527498210848019"
     }
    },
    "outputId": "c1d6384e-95bb-4733-b085-1f0da9bb5800"
   },
   "outputs": [
    {
     "output_type": "stream",
     "name": "stdout",
     "text": [
      "fit countvectorizer finished\n",
      "train time of openstack is 61.739 secs\n",
      "CPU times: user 8min 24s, sys: 3.76 s, total: 8min 28s\n",
      "Wall time: 1min 36s\n"
     ]
    }
   ],
   "source": [
    "%%time\n",
    "check_train_time('openstack', 9)"
   ]
  },
  {
   "cell_type": "code",
   "execution_count": null,
   "metadata": {
    "id": "7N6luSTI1hyR",
    "outputId": "9bb5ad54-1ed2-43ad-83e9-b4baa762e4bb"
   },
   "outputs": [
    {
     "name": "stdout",
     "output_type": "stream",
     "text": [
      "fit countvectorizer finished\n",
      "train time of qt is 174.545 secs\n"
     ]
    }
   ],
   "source": [
    "check_train_time('qt', 14)"
   ]
  },
  {
   "cell_type": "code",
   "execution_count": null,
   "metadata": {
    "id": "VWqbNYF81hyS"
   },
   "outputs": [],
   "source": []
  }
 ],
 "metadata": {
  "kernelspec": {
   "display_name": "Python 3",
   "name": "python3"
  },
  "language_info": {
   "codemirror_mode": {
    "name": "ipython",
    "version": 3
   },
   "file_extension": ".py",
   "mimetype": "text/x-python",
   "name": "python",
   "nbconvert_exporter": "python",
   "pygments_lexer": "ipython3",
   "version": "3.10.11"
  },
  "colab": {
   "provenance": [],
   "machine_shape": "hm"
  }
 },
 "nbformat": 4,
 "nbformat_minor": 0
}
